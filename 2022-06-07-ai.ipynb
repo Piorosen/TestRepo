{
 "cells": [
  {
   "cell_type": "markdown",
   "id": "77ba0aaf",
   "metadata": {},
   "source": [
    "# 20183221 응용소프트웨어공학과 차주형"
   ]
  },
  {
   "cell_type": "code",
   "execution_count": 2,
   "id": "997ef10c",
   "metadata": {},
   "outputs": [
    {
     "data": {
      "image/png": "[encoded data removed]",
      "text/plain": [
       "<Figure size 432x288 with 2 Axes>"
      ]
     },
     "metadata": {
      "needs_background": "light"
     },
     "output_type": "display_data"
    }
   ],
   "source": [
    "# 파이썬 코드를 통한 선형 회귀 알고리즘 프로그래밍\n",
    "\n",
    "from scipy import stats\n",
    "import matplotlib.pyplot as plt\n",
    "import numpy as np\n",
    "\n",
    "x = [110, 100, 300, 400, 130, 350, 200, 190, 130, 270, 255, 250]\n",
    "y = [21, 20, 36, 47, 22, 47, 40, 30,17, 38, 27,29]\n",
    "slope, intercept, r, p, std_err = stats.linregress(x, y)\n",
    "\n",
    "def predict_y(x):\n",
    "    return slope * x + intercept\n",
    "\n",
    "fig = plt.figure()\n",
    "ax1 = fig.add_subplot()\n",
    "ax2 = fig.add_subplot()\n",
    "\n",
    "ax1 = plt.scatter(x, y)\n",
    "x1 = np.arange(100, 420, 10)\n",
    "y1 = [predict_y(num) for num in x1]\n",
    "ax2 = plt.plot(x1, y1, 'r')\n",
    "\n",
    "plt.grid(True)\n",
    "plt.xlabel('Delivery Distance(m)')\n",
    "plt.ylabel('Delivery Time(minute)')\n",
    "plt.show()"
   ]
  },
  {
   "cell_type": "code",
   "execution_count": 3,
   "id": "bbf3516c",
   "metadata": {},
   "outputs": [
    {
     "name": "stdout",
     "output_type": "stream",
     "text": [
      "예측하고 싶은 배달 거리를 입력하세요 : 280\n",
      "280m 거리의 예상 도착시간은 36분 입니다.\n"
     ]
    }
   ],
   "source": [
    "# 머신러닝 패키지를 활용한 선형 회귀 알고리즘 프로그래밍\n",
    "\n",
    "from sklearn.linear_model import LinearRegression\n",
    "x = [[110], [100], [300], [400], [130], [350],\n",
    "     [200], [190], [130], [270], [255], [250]]\n",
    "\n",
    "y = [21, 20, 36, 47, 22, 47, 40, 30, 17, 38, 27, 29]\n",
    "model = LinearRegression()\n",
    "\n",
    "fit_model = model.fit(x, y)\n",
    "p_distance = int(input('예측하고 싶은 배달 거리를 입력하세요 : '))\n",
    "p_time = fit_model.predict([[p_distance]])\n",
    "\n",
    "print('%dm 거리의 예상 도착시간은 %d분 입니다.' % (p_distance, p_time))\n"
   ]
  },
  {
   "cell_type": "code",
   "execution_count": 4,
   "id": "90caca7c",
   "metadata": {},
   "outputs": [
    {
     "name": "stdout",
     "output_type": "stream",
     "text": [
      "[2, 3, 0]\n",
      "[1, 2, 0]\n",
      "[3, 4, 0]\n",
      "[1, 2, 1]\n",
      "[3, 3, 1]\n",
      "기대 0, 예측 0\n"
     ]
    }
   ],
   "source": [
    "# 파이썬 코드를 통한 K-NN 알고리즘 프로그래밍\n",
    "\n",
    "from math import sqrt\n",
    "\n",
    "distances = []\n",
    "\n",
    "\n",
    "def euclidean_distance(row1, row2):\n",
    "    distance = 0.0\n",
    "    for i in range(len(row1) - 1):\n",
    "        distance += (row1[i] - row2[i]) ** 2\n",
    "    \n",
    "    return sqrt(distance)\n",
    "\n",
    "def get_neighbors(train, test_row, num_neighbors):\n",
    "    distance = list()\n",
    "    for train_row in train:\n",
    "        dist = euclidean_distance(test_row, train_row)\n",
    "        distances.append((train_row, dist))\n",
    "    distances.sort(key=lambda tup: tup[1])\n",
    "    neighbors = list()\n",
    "    for i in range(num_neighbors):\n",
    "        neighbors.append(distances[i][0])\n",
    "        \n",
    "    return neighbors\n",
    "\n",
    "def predict_classification(train, test_row, num_neighbors):\n",
    "    neighbors = get_neighbors(train, test_row, num_neighbors)\n",
    "    for neighbor in neighbors:\n",
    "        print(neighbor)\n",
    "    output_values = [row[-1] for row in neighbors]\n",
    "    prediction = max(set(output_values), key=output_values.count)\n",
    "    return prediction\n",
    "\n",
    "dataset = [[2,3,0],\n",
    "          [1,2,0],\n",
    "          [3,4,0],\n",
    "          [1,2,1],\n",
    "          [3,3,1],\n",
    "          [8,3,1],\n",
    "          [5,2,2],\n",
    "          [7,2,2],\n",
    "          [8,1,2],\n",
    "          [7,4,2]]\n",
    "test = [2,5,0]\n",
    "K = 5\n",
    "\n",
    "test_point = [2,5]\n",
    "prediction = predict_classification(dataset, test_point, K)\n",
    "\n",
    "print('기대 %d, 예측 %d'% (test[-1], prediction))\n",
    "\n",
    "\n",
    "\n"
   ]
  },
  {
   "cell_type": "code",
   "execution_count": 5,
   "id": "9e5c366e",
   "metadata": {},
   "outputs": [
    {
     "name": "stdout",
     "output_type": "stream",
     "text": [
      "테스트 세트 정확도 :0.974\n"
     ]
    }
   ],
   "source": [
    "# 머신러닝 패키지를 활용한 K-NN 알고리즘 프로그래밍\n",
    "from sklearn.model_selection import train_test_split\n",
    "from sklearn.neighbors import KNeighborsClassifier\n",
    "from sklearn.datasets import load_iris\n",
    "iris_dataset = load_iris()\n",
    "x_train, x_test, y_train, y_test = train_test_split(iris_dataset['data'], iris_dataset['target'], random_state=0)\n",
    "knn = KNeighborsClassifier(n_neighbors=20)\n",
    "knn.fit(x_train, y_train)\n",
    "print(\"테스트 세트 정확도 :{:.3f}\".format(knn.score(x_test, y_test)))"
   ]
  },
  {
   "cell_type": "code",
   "execution_count": null,
   "id": "cdcb0f01",
   "metadata": {},
   "outputs": [],
   "source": []
  }
 ],
 "metadata": {
  "kernelspec": {
   "display_name": "Python 3 (ipykernel)",
   "language": "python",
   "name": "python3"
  },
  "language_info": {
   "codemirror_mode": {
    "name": "ipython",
    "version": 3
   },
   "file_extension": ".py",
   "mimetype": "text/x-python",
   "name": "python",
   "nbconvert_exporter": "python",
   "pygments_lexer": "ipython3",
   "version": "3.9.7"
  }
 },
 "nbformat": 4,
 "nbformat_minor": 5
}
